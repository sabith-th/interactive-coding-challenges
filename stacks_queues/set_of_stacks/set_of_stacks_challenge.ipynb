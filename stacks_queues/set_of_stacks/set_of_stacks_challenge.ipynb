{
 "cells": [
  {
   "cell_type": "markdown",
   "metadata": {},
   "source": [
    "This notebook was prepared by [Donne Martin](http://donnemartin.com). Source and license info is on [GitHub](https://github.com/donnemartin/interactive-coding-challenges)."
   ]
  },
  {
   "cell_type": "markdown",
   "metadata": {},
   "source": [
    "# Challenge Notebook"
   ]
  },
  {
   "cell_type": "markdown",
   "metadata": {},
   "source": [
    "## Problem: Implement SetOfStacks that wraps a list of stacks, where each stack is bound by a capacity.\n",
    "\n",
    "* [Constraints](#Constraints)\n",
    "* [Test Cases](#Test-Cases)\n",
    "* [Algorithm](#Algorithm)\n",
    "* [Code](#Code)\n",
    "* [Unit Test](#Unit-Test)\n",
    "* [Solution Notebook](#Solution-Notebook)"
   ]
  },
  {
   "cell_type": "markdown",
   "metadata": {},
   "source": [
    "## Constraints\n",
    "\n",
    "* Can we assume we already have a stack class that can be used for this problem?\n",
    "    * Yes\n",
    "* Are all stack bound by the same capacity?\n",
    "    * Yes\n",
    "* If a stack becomes full, should automatically create one?\n",
    "    * Yes\n",
    "* If a stack becomes empty, should we delete it?\n",
    "    * Yes\n",
    "* If we pop on an empty stack, should we return None?\n",
    "    * Yes\n",
    "* Can we assume this fits memory?\n",
    "    * Yes"
   ]
  },
  {
   "cell_type": "markdown",
   "metadata": {},
   "source": [
    "## Test Cases\n",
    "\n",
    "* Push and pop on an empty stack\n",
    "* Push and pop on a non-empty stack\n",
    "* Push on a capacity stack to create a new one\n",
    "* Pop on a stack to destroy it"
   ]
  },
  {
   "cell_type": "markdown",
   "metadata": {},
   "source": [
    "## Algorithm\n",
    "\n",
    "Refer to the [Solution Notebook](http://nbviewer.ipython.org/github/donnemartin/interactive-coding-challenges/blob/master/stacks_queues/set_of_stacks/set_of_stacks_solution.ipynb).  If you are stuck and need a hint, the solution notebook's algorithm discussion might be a good place to start."
   ]
  },
  {
   "cell_type": "markdown",
   "metadata": {},
   "source": [
    "## Code"
   ]
  },
  {
   "cell_type": "code",
   "execution_count": 1,
   "metadata": {},
   "outputs": [],
   "source": [
    "# %load ../stack/stack.py\n",
    "class Node(object):\n",
    "\n",
    "    def __init__(self, data, next=None):\n",
    "        self.data = data\n",
    "        self.next = next\n",
    "\n",
    "\n",
    "class Stack(object):\n",
    "\n",
    "    def __init__(self, top=None):\n",
    "        self.top = top\n",
    "\n",
    "    def push(self, data):\n",
    "        self.top = Node(data, self.top)\n",
    "\n",
    "    def pop(self):\n",
    "        if self.top is None:\n",
    "            return None\n",
    "        data = self.top.data\n",
    "        self.top = self.top.next\n",
    "        return data\n",
    "\n",
    "    def peek(self):\n",
    "        return self.top.data if self.top is not None else None\n",
    "\n",
    "    def is_empty(self):\n",
    "        return self.peek() is None\n"
   ]
  },
  {
   "cell_type": "code",
   "execution_count": 2,
   "metadata": {},
   "outputs": [],
   "source": [
    "class StackWithCapacity(Stack):\n",
    "\n",
    "    def __init__(self, top=None, capacity=10):\n",
    "        super(StackWithCapacity, self).__init__(top)\n",
    "        self.capacity = capacity\n",
    "        self.current_size = 0\n",
    "\n",
    "    def push(self, data):\n",
    "        if self.is_full():\n",
    "            raise Exception('Stack is full')\n",
    "        super(StackWithCapacity, self).push(data)\n",
    "        self.current_size += 1\n",
    "\n",
    "    def pop(self):\n",
    "        data = super(StackWithCapacity, self).pop()\n",
    "        if data is not None:\n",
    "            self.current_size -= 1\n",
    "        return data\n",
    "    \n",
    "    def is_full(self):\n",
    "        return self.current_size == self.capacity\n",
    "    \n",
    "    def is_empty(self):\n",
    "        return self.current_size == 0\n",
    "\n",
    "\n",
    "class SetOfStacks(object):\n",
    "\n",
    "    def __init__(self, indiv_stack_capacity):\n",
    "        self.indiv_stack_capacity = indiv_stack_capacity\n",
    "        self.stacks = []\n",
    "        self.current_stack_index = -1\n",
    "\n",
    "    def push(self, data):\n",
    "        if self.current_stack_index == -1 or self.stacks[self.current_stack_index].is_full():\n",
    "            self.stacks.append(StackWithCapacity(capacity=self.indiv_stack_capacity))\n",
    "            self.current_stack_index += 1\n",
    "        self.stacks[self.current_stack_index].push(data)\n",
    "\n",
    "    def pop(self):\n",
    "        if self.current_stack_index == -1:\n",
    "            return None\n",
    "        data = self.stacks[self.current_stack_index].pop()\n",
    "        if self.stacks[self.current_stack_index].is_empty():\n",
    "            self.stacks.pop()\n",
    "            self.current_stack_index -= 1\n",
    "        return data"
   ]
  },
  {
   "cell_type": "markdown",
   "metadata": {},
   "source": [
    "## Unit Test\n",
    "\n",
    "\n",
    "\n",
    "**The following unit test is expected to fail until you solve the challenge.**"
   ]
  },
  {
   "cell_type": "code",
   "execution_count": 3,
   "metadata": {},
   "outputs": [
    {
     "name": "stdout",
     "output_type": "stream",
     "text": [
      "Test: Push on an empty stack\n",
      "Test: Push on a non-empty stack\n",
      "Test: Push on a capacity stack to create a new one\n",
      "Test: Pop on a stack to destroy it\n",
      "Test: Pop general case\n",
      "Test: Pop on no elements\n",
      "Success: test_set_of_stacks\n"
     ]
    }
   ],
   "source": [
    "# %load test_set_of_stacks.py\n",
    "import unittest\n",
    "\n",
    "\n",
    "class TestSetOfStacks(unittest.TestCase):\n",
    "\n",
    "    def test_set_of_stacks(self):\n",
    "        print('Test: Push on an empty stack')\n",
    "        stacks = SetOfStacks(indiv_stack_capacity=2)\n",
    "        stacks.push(3)\n",
    "\n",
    "        print('Test: Push on a non-empty stack')\n",
    "        stacks.push(5)\n",
    "\n",
    "        print('Test: Push on a capacity stack to create a new one')\n",
    "        stacks.push('a')\n",
    "\n",
    "        print('Test: Pop on a stack to destroy it')\n",
    "        self.assertEqual(stacks.pop(), 'a')\n",
    "\n",
    "        print('Test: Pop general case')\n",
    "        self.assertEqual(stacks.pop(), 5)\n",
    "        self.assertEqual(stacks.pop(), 3)\n",
    "\n",
    "        print('Test: Pop on no elements')\n",
    "        self.assertEqual(stacks.pop(), None)\n",
    "\n",
    "        print('Success: test_set_of_stacks')\n",
    "\n",
    "\n",
    "def main():\n",
    "    test = TestSetOfStacks()\n",
    "    test.test_set_of_stacks()\n",
    "\n",
    "\n",
    "if __name__ == '__main__':\n",
    "    main()"
   ]
  },
  {
   "cell_type": "markdown",
   "metadata": {},
   "source": [
    "## Solution Notebook\n",
    "\n",
    "Review the [Solution Notebook](http://nbviewer.ipython.org/github/donnemartin/interactive-coding-challenges/blob/master/stacks_queues/set_of_stacks/set_of_stacks_solution.ipynb) for a discussion on algorithms and code solutions."
   ]
  }
 ],
 "metadata": {
  "kernelspec": {
   "display_name": "Python 3",
   "language": "python",
   "name": "python3"
  },
  "language_info": {
   "codemirror_mode": {
    "name": "ipython",
    "version": 3
   },
   "file_extension": ".py",
   "mimetype": "text/x-python",
   "name": "python",
   "nbconvert_exporter": "python",
   "pygments_lexer": "ipython3",
   "version": "3.10.0"
  }
 },
 "nbformat": 4,
 "nbformat_minor": 1
}

{
 "cells": [
  {
   "cell_type": "markdown",
   "metadata": {},
   "source": [
    "This notebook was prepared by [Donne Martin](http://donnemartin.com). Source and license info is on [GitHub](https://github.com/donnemartin/interactive-coding-challenges)."
   ]
  },
  {
   "cell_type": "markdown",
   "metadata": {},
   "source": [
    "# Challenge Notebook"
   ]
  },
  {
   "cell_type": "markdown",
   "metadata": {},
   "source": [
    "## Problem: Partition a linked list around a value x, such that all nodes less than x come before all nodes greater than or equal to x.\n",
    "\n",
    "* [Constraints](#Constraints)\n",
    "* [Test Cases](#Test-Cases)\n",
    "* [Algorithm](#Algorithm)\n",
    "* [Code](#Code)\n",
    "* [Unit Test](#Unit-Test)\n",
    "* [Solution Notebook](#Solution-Notebook)"
   ]
  },
  {
   "cell_type": "markdown",
   "metadata": {},
   "source": [
    "## Constraints\n",
    "\n",
    "* Can we assume this is a non-circular, singly linked list?\n",
    "    * Yes\n",
    "* Do we expect the function to return a new list?\n",
    "    * Yes\n",
    "* Can we assume the input x is valid?\n",
    "    * Yes\n",
    "* Can we assume we already have a linked list class that can be used for this problem?\n",
    "    * Yes\n",
    "* Can we create additional data structures?\n",
    "    * Yes\n",
    "* Can we assume this fits in memory?\n",
    "    * Yes"
   ]
  },
  {
   "cell_type": "markdown",
   "metadata": {},
   "source": [
    "## Test Cases\n",
    "\n",
    "* Empty list -> []\n",
    "* One element list -> [element]\n",
    "* Left linked list is empty\n",
    "* Right linked list is empty\n",
    "* General case\n",
    "    * Partition = 10\n",
    "    * Input:  4, 3, 7, 8, 10, 1, 10, 12\n",
    "    * Output: 4, 3, 7, 8, 1, 10, 10, 12"
   ]
  },
  {
   "cell_type": "markdown",
   "metadata": {},
   "source": [
    "## Algorithm\n",
    "\n",
    "Refer to the [Solution Notebook](http://nbviewer.ipython.org/github/donnemartin/interactive-coding-challenges/blob/master/linked_lists/partition/partition_solution.ipynb).  If you are stuck and need a hint, the solution notebook's algorithm discussion might be a good place to start."
   ]
  },
  {
   "cell_type": "markdown",
   "metadata": {},
   "source": [
    "## Code"
   ]
  },
  {
   "cell_type": "code",
   "execution_count": 1,
   "metadata": {
    "collapsed": true
   },
   "outputs": [],
   "source": [
    "# %load ../linked_list/linked_list.py\n",
    "class Node(object):\n",
    "\n",
    "    def __init__(self, data, next=None):\n",
    "        self.next = next\n",
    "        self.data = data\n",
    "\n",
    "    def __str__(self):\n",
    "        return self.data\n",
    "\n",
    "\n",
    "class LinkedList(object):\n",
    "\n",
    "    def __init__(self, head=None):\n",
    "        self.head = head\n",
    "\n",
    "    def __len__(self):\n",
    "        curr = self.head\n",
    "        counter = 0\n",
    "        while curr is not None:\n",
    "            counter += 1\n",
    "            curr = curr.next\n",
    "        return counter\n",
    "\n",
    "    def insert_to_front(self, data):\n",
    "        if data is None:\n",
    "            return None\n",
    "        node = Node(data, self.head)\n",
    "        self.head = node\n",
    "        return node\n",
    "\n",
    "    def append(self, data):\n",
    "        if data is None:\n",
    "            return None\n",
    "        node = Node(data)\n",
    "        if self.head is None:\n",
    "            self.head = node\n",
    "            return node\n",
    "        curr_node = self.head\n",
    "        while curr_node.next is not None:\n",
    "            curr_node = curr_node.next\n",
    "        curr_node.next = node\n",
    "        return node\n",
    "\n",
    "    def find(self, data):\n",
    "        if data is None:\n",
    "            return None\n",
    "        curr_node = self.head\n",
    "        while curr_node is not None:\n",
    "            if curr_node.data == data:\n",
    "                return curr_node\n",
    "            curr_node = curr_node.next\n",
    "        return None\n",
    "\n",
    "    def delete(self, data):\n",
    "        if data is None:\n",
    "            return\n",
    "        if self.head is None:\n",
    "            return\n",
    "        if self.head.data == data:\n",
    "            self.head = self.head.next\n",
    "            return\n",
    "        prev_node = self.head\n",
    "        curr_node = self.head.next\n",
    "        while curr_node is not None:\n",
    "            if curr_node.data == data:\n",
    "                prev_node.next = curr_node.next\n",
    "                return\n",
    "            prev_node = curr_node\n",
    "            curr_node = curr_node.next\n",
    "\n",
    "    def delete_alt(self, data):\n",
    "        if data is None:\n",
    "            return\n",
    "        if self.head is None:\n",
    "            return\n",
    "        curr_node = self.head\n",
    "        if curr_node.data == data:\n",
    "            curr_node = curr_node.next\n",
    "            return\n",
    "        while curr_node.next is not None:\n",
    "            if curr_node.next.data == data:\n",
    "                curr_node.next = curr_node.next.next\n",
    "                return\n",
    "            curr_node = curr_node.next\n",
    "\n",
    "    def print_list(self):\n",
    "        curr_node = self.head\n",
    "        while curr_node is not None:\n",
    "            print(curr_node.data)\n",
    "            curr_node = curr_node.next\n",
    "\n",
    "    def get_all_data(self):\n",
    "        data = []\n",
    "        curr_node = self.head\n",
    "        while curr_node is not None:\n",
    "            data.append(curr_node.data)\n",
    "            curr_node = curr_node.next\n",
    "        return data\n"
   ]
  },
  {
   "cell_type": "code",
   "execution_count": 13,
   "metadata": {},
   "outputs": [],
   "source": [
    "class MyLinkedList(LinkedList):\n",
    "\n",
    "    def partition(self, data):\n",
    "        left = LinkedList()\n",
    "        right = LinkedList()\n",
    "        curr = self.head\n",
    "        left_last = None\n",
    "        while curr is not None:\n",
    "            if curr.data < data:\n",
    "                left_last = left.append(curr.data)\n",
    "            elif curr.data == data:\n",
    "                right.insert_to_front(curr.data)\n",
    "            else:\n",
    "                    right.append(curr.data)\n",
    "            curr = curr.next\n",
    "        if left_last is not None:\n",
    "            left_last.next = right.head\n",
    "        else:\n",
    "            left.head = right.head\n",
    "        return left"
   ]
  },
  {
   "cell_type": "markdown",
   "metadata": {},
   "source": [
    "## Unit Test"
   ]
  },
  {
   "cell_type": "markdown",
   "metadata": {},
   "source": [
    "\n",
    "\n",
    "**The following unit test is expected to fail until you solve the challenge.**"
   ]
  },
  {
   "cell_type": "code",
   "execution_count": 14,
   "metadata": {},
   "outputs": [
    {
     "name": "stdout",
     "output_type": "stream",
     "text": [
      "Test: Empty list\n",
      "Test: One element list, left list empty\n",
      "Test: Right list is empty\n",
      "Test: General case\n",
      "Success: test_partition\n"
     ]
    }
   ],
   "source": [
    "# %load test_partition.py\n",
    "import unittest\n",
    "\n",
    "\n",
    "class TestPartition(unittest.TestCase):\n",
    "\n",
    "    def test_partition(self):\n",
    "        print('Test: Empty list')\n",
    "        linked_list = MyLinkedList(None)\n",
    "        linked_list.partition(10)\n",
    "        self.assertEqual(linked_list.get_all_data(), [])\n",
    "\n",
    "        print('Test: One element list, left list empty')\n",
    "        linked_list = MyLinkedList(Node(5))\n",
    "        linked_list.partition(0)\n",
    "        self.assertEqual(linked_list.get_all_data(), [5])\n",
    "\n",
    "        print('Test: Right list is empty')\n",
    "        linked_list = MyLinkedList(Node(5))\n",
    "        linked_list.partition(10)\n",
    "        self.assertEqual(linked_list.get_all_data(), [5])\n",
    "\n",
    "        print('Test: General case')\n",
    "        # Partition = 10\n",
    "        # Input: 4, 3, 13, 8, 10, 1, 14, 10, 12\n",
    "        # Output: 4, 3, 8, 1, 10, 10, 13, 14, 12\n",
    "        linked_list = MyLinkedList(Node(12))\n",
    "        linked_list.insert_to_front(10)\n",
    "        linked_list.insert_to_front(14)\n",
    "        linked_list.insert_to_front(1)\n",
    "        linked_list.insert_to_front(10)\n",
    "        linked_list.insert_to_front(8)\n",
    "        linked_list.insert_to_front(13)\n",
    "        linked_list.insert_to_front(3)\n",
    "        linked_list.insert_to_front(4)\n",
    "        partitioned_list = linked_list.partition(10)\n",
    "        self.assertEqual(partitioned_list.get_all_data(),\n",
    "                     [4, 3, 8, 1, 10, 10, 13, 14, 12])\n",
    "\n",
    "        print('Success: test_partition')\n",
    "\n",
    "\n",
    "def main():\n",
    "    test = TestPartition()\n",
    "    test.test_partition()\n",
    "\n",
    "\n",
    "if __name__ == '__main__':\n",
    "    main()"
   ]
  },
  {
   "cell_type": "markdown",
   "metadata": {},
   "source": [
    "## Solution Notebook\n",
    "\n",
    "Review the [Solution Notebook](http://nbviewer.ipython.org/github/donnemartin/interactive-coding-challenges/blob/master/linked_lists/partition/partition_solution.ipynb) for a discussion on algorithms and code solutions."
   ]
  }
 ],
 "metadata": {
  "kernelspec": {
   "display_name": "Python 3",
   "language": "python",
   "name": "python3"
  },
  "language_info": {
   "codemirror_mode": {
    "name": "ipython",
    "version": 3
   },
   "file_extension": ".py",
   "mimetype": "text/x-python",
   "name": "python",
   "nbconvert_exporter": "python",
   "pygments_lexer": "ipython3",
   "version": "3.10.0"
  }
 },
 "nbformat": 4,
 "nbformat_minor": 1
}
